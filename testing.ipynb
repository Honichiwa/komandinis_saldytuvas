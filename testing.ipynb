{
 "cells": [
  {
   "cell_type": "code",
   "execution_count": 11,
   "metadata": {},
   "outputs": [
    {
     "name": "stdout",
     "output_type": "stream",
     "text": [
      "<function saldytuvo_sudetis at 0x000002800F595EA0>\n",
      "{'pienas': 1, 'vanduo': 2}\n"
     ]
    }
   ],
   "source": [
    "def saldytuvo_sudetis():\n",
    "    visi_produktai = produktai[\"Skystas\"].values\n",
    "    return visi_produktai\n",
    "\n",
    "produktai = {\"Skystas\": {'pienas':1, 'vanduo':2}, \"Kietas\": {}, \"Paruoštas\": {}}\n",
    "print(str(saldytuvo_sudetis))\n",
    "print(produktai[\"Skystas\"]['pienas'])"
   ]
  }
 ],
 "metadata": {
  "kernelspec": {
   "display_name": "Python 3",
   "language": "python",
   "name": "python3"
  },
  "language_info": {
   "codemirror_mode": {
    "name": "ipython",
    "version": 3
   },
   "file_extension": ".py",
   "mimetype": "text/x-python",
   "name": "python",
   "nbconvert_exporter": "python",
   "pygments_lexer": "ipython3",
   "version": "3.10.11"
  },
  "orig_nbformat": 4
 },
 "nbformat": 4,
 "nbformat_minor": 2
}
